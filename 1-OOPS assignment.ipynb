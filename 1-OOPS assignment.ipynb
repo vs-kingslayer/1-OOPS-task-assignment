{
 "cells": [
  {
   "cell_type": "markdown",
   "id": "e085d495-0583-4513-bd3c-a38c32673ca3",
   "metadata": {},
   "source": [
    "Q1. Explain Class and Object with respect to Object-Oriented Programming. Give a suitable example."
   ]
  },
  {
   "cell_type": "raw",
   "id": "0292398f-c65c-4382-8d7a-ed1858f639af",
   "metadata": {},
   "source": [
    "class is the datatype which has its own data member\n",
    "\n",
    "object is the instance of class\n",
    "\n",
    "for example:"
   ]
  },
  {
   "cell_type": "code",
   "execution_count": 9,
   "id": "c2595b47-01aa-4f09-aa78-03a87141a3ee",
   "metadata": {},
   "outputs": [],
   "source": [
    "class pwskills:\n",
    "    \n",
    "    def __init__(self,phonenumber,email,studentid):\n",
    "        self.phonenumber=phonenumber\n",
    "        self.email=email\n",
    "        self.studentid=studentid\n",
    "        \n",
    "    def return_student_deatil(self):\n",
    "        return self.phonenumber,self.email,self.studentid\n"
   ]
  },
  {
   "cell_type": "code",
   "execution_count": 10,
   "id": "b13407f7-d4f8-4838-9ea4-cbc8c3fe06e0",
   "metadata": {},
   "outputs": [],
   "source": [
    "vaibhav = pwskills(569845,\"vs@gmail.com\",236659)"
   ]
  },
  {
   "cell_type": "code",
   "execution_count": 11,
   "id": "0b08005c-86ee-4b09-9b9e-f3905db94096",
   "metadata": {},
   "outputs": [
    {
     "data": {
      "text/plain": [
       "(569845, 'vs@gmail.com', 236659)"
      ]
     },
     "execution_count": 11,
     "metadata": {},
     "output_type": "execute_result"
    }
   ],
   "source": [
    "vaibhav.return_student_deatil()"
   ]
  },
  {
   "cell_type": "code",
   "execution_count": 12,
   "id": "76300754-5bf2-4893-9a04-95e5d2846b40",
   "metadata": {},
   "outputs": [
    {
     "data": {
      "text/plain": [
       "569845"
      ]
     },
     "execution_count": 12,
     "metadata": {},
     "output_type": "execute_result"
    }
   ],
   "source": [
    "vaibhav.phonenumber"
   ]
  },
  {
   "cell_type": "code",
   "execution_count": 13,
   "id": "74dfbbc4-01ce-44a5-b71c-39990114cf55",
   "metadata": {},
   "outputs": [
    {
     "data": {
      "text/plain": [
       "'vs@gmail.com'"
      ]
     },
     "execution_count": 13,
     "metadata": {},
     "output_type": "execute_result"
    }
   ],
   "source": [
    "vaibhav.email"
   ]
  },
  {
   "cell_type": "code",
   "execution_count": 14,
   "id": "78bee42f-5696-4f85-9eae-131586618c35",
   "metadata": {},
   "outputs": [
    {
     "data": {
      "text/plain": [
       "236659"
      ]
     },
     "execution_count": 14,
     "metadata": {},
     "output_type": "execute_result"
    }
   ],
   "source": [
    "vaibhav.studentid\n"
   ]
  },
  {
   "cell_type": "markdown",
   "id": "2a0d014c-8745-4c75-891a-c8d586c886b8",
   "metadata": {},
   "source": [
    "Q2. Name the four pillars of OOPs."
   ]
  },
  {
   "cell_type": "raw",
   "id": "c223dd2a-b1b1-46bf-8cd9-6630188e8e78",
   "metadata": {},
   "source": [
    "1.polymorphism\n",
    "2.inheritance\n",
    "3.encapsulation\n",
    "4.abstract class"
   ]
  },
  {
   "cell_type": "markdown",
   "id": "9dc9af9b-353f-4de9-bf91-625b6fb2aa95",
   "metadata": {},
   "source": [
    "Q3. Explain why the __init__() function is used. Give a suitable example"
   ]
  },
  {
   "cell_type": "raw",
   "id": "405287cc-5e82-49c6-b727-f80215b563f1",
   "metadata": {},
   "source": [
    "init() function is used as the constructor in python\n",
    "\n",
    "for example:\n",
    "    above example is suitable for that ex.1"
   ]
  },
  {
   "cell_type": "markdown",
   "id": "023d4dbe-34af-4083-aa2c-177a7bd832ca",
   "metadata": {},
   "source": [
    "Q4. Why self is used in OOPs?\n"
   ]
  },
  {
   "cell_type": "raw",
   "id": "180d4a96-0343-4f2c-9170-cca368b9db5c",
   "metadata": {},
   "source": [
    "self will act as a class_obj and it is not a keyword in python\n",
    "\n",
    "example:\n",
    "    \n",
    "    def class1(self):\n",
    "        pass"
   ]
  },
  {
   "cell_type": "markdown",
   "id": "5bed34de-ff9d-4813-beb3-36e58b2dbc1f",
   "metadata": {},
   "source": [
    "Q5. What is inheritance? Give an example for each type of inheritance"
   ]
  },
  {
   "cell_type": "raw",
   "id": "b6ae8f9e-7d5b-4fcc-aaa3-23815822af09",
   "metadata": {},
   "source": [
    "inheritance is the concept of reusiblity of code its means accessing one class data to another class\n",
    "\n",
    "types of inheritance:\n",
    "    single inheritance\n",
    "    multiple inheritance\n",
    "    multilevel inheritance"
   ]
  },
  {
   "cell_type": "code",
   "execution_count": 20,
   "id": "e7c01cdf-228e-4031-94e5-b194ca942f38",
   "metadata": {},
   "outputs": [],
   "source": [
    "#single inheritance:\n",
    "\n",
    "class class1:\n",
    "    \n",
    "    def test_class1(self):\n",
    "        print(\"hlo class1\")"
   ]
  },
  {
   "cell_type": "code",
   "execution_count": 21,
   "id": "0e99ca4d-107e-4046-a5e4-b33a05e55b2a",
   "metadata": {},
   "outputs": [],
   "source": [
    "class class2(class1):\n",
    "    pass"
   ]
  },
  {
   "cell_type": "code",
   "execution_count": 22,
   "id": "b4b78346-3ad7-4821-a58d-0d471e824b06",
   "metadata": {},
   "outputs": [],
   "source": [
    "obj_class2=class2()"
   ]
  },
  {
   "cell_type": "code",
   "execution_count": 23,
   "id": "c98ef6fb-824e-4936-9ecd-395e46e9f014",
   "metadata": {},
   "outputs": [
    {
     "name": "stdout",
     "output_type": "stream",
     "text": [
      "hlo class1\n"
     ]
    }
   ],
   "source": [
    "obj_class2.test_class1()"
   ]
  },
  {
   "cell_type": "code",
   "execution_count": 25,
   "id": "bff49f6e-44f0-4f3d-b867-d6044375ad18",
   "metadata": {},
   "outputs": [],
   "source": [
    "#multiple inheritance:\n",
    "\n",
    "class class3:\n",
    "    \n",
    "    def test_class3(self):\n",
    "        print(\"hlo class3\")"
   ]
  },
  {
   "cell_type": "code",
   "execution_count": 26,
   "id": "3f4381b4-4fc2-4da6-a370-4a7b5c0934cd",
   "metadata": {},
   "outputs": [],
   "source": [
    "class class4:\n",
    "    \n",
    "    def test_class4(self):\n",
    "        print(\"hlo class4\")"
   ]
  },
  {
   "cell_type": "code",
   "execution_count": 29,
   "id": "34391d80-1e67-47a7-90af-5691380c1505",
   "metadata": {},
   "outputs": [],
   "source": [
    "class class5(class3,class4):\n",
    "    pass"
   ]
  },
  {
   "cell_type": "code",
   "execution_count": 30,
   "id": "d4814871-46ee-438b-8dc5-732953572768",
   "metadata": {},
   "outputs": [],
   "source": [
    "obj_class5=class5()"
   ]
  },
  {
   "cell_type": "code",
   "execution_count": 31,
   "id": "ad3c4b2c-1b36-4655-97b6-f6d57ea4dae6",
   "metadata": {},
   "outputs": [
    {
     "name": "stdout",
     "output_type": "stream",
     "text": [
      "hlo class3\n"
     ]
    }
   ],
   "source": [
    "obj_class5.test_class3()"
   ]
  },
  {
   "cell_type": "code",
   "execution_count": 32,
   "id": "8114ade5-9b33-4a4f-a591-37b3186ec9d8",
   "metadata": {},
   "outputs": [
    {
     "name": "stdout",
     "output_type": "stream",
     "text": [
      "hlo class4\n"
     ]
    }
   ],
   "source": [
    "obj_class5.test_class4()"
   ]
  },
  {
   "cell_type": "code",
   "execution_count": 34,
   "id": "64ff13bc-75a0-44bf-abb3-86a1dec26327",
   "metadata": {},
   "outputs": [],
   "source": [
    "#multilevel inheritance:\n",
    "\n",
    "class class6:\n",
    "    \n",
    "    def test_class6(self):\n",
    "        print(\"hlo class6\")"
   ]
  },
  {
   "cell_type": "code",
   "execution_count": 35,
   "id": "8eefc93e-0a83-4a0f-b729-398b5e310175",
   "metadata": {},
   "outputs": [],
   "source": [
    "class class7(class6):\n",
    "    pass\n",
    "    "
   ]
  },
  {
   "cell_type": "code",
   "execution_count": 36,
   "id": "66e0a645-dcec-4c3a-8fbb-ba0f3eb2b592",
   "metadata": {},
   "outputs": [],
   "source": [
    "class class8(class7):\n",
    "    pass"
   ]
  },
  {
   "cell_type": "code",
   "execution_count": 37,
   "id": "cb912558-6eec-425e-bc84-4ed15ab39ae5",
   "metadata": {},
   "outputs": [],
   "source": [
    "obj_class8=class8()"
   ]
  },
  {
   "cell_type": "code",
   "execution_count": 38,
   "id": "a68cdb62-64c8-4347-8bd7-4295c75c323d",
   "metadata": {},
   "outputs": [
    {
     "name": "stdout",
     "output_type": "stream",
     "text": [
      "hlo class6\n"
     ]
    }
   ],
   "source": [
    "obj_class8.test_class6()"
   ]
  },
  {
   "cell_type": "code",
   "execution_count": null,
   "id": "a5866ab5-4387-4c7c-935e-fde64eb309cc",
   "metadata": {},
   "outputs": [],
   "source": []
  }
 ],
 "metadata": {
  "kernelspec": {
   "display_name": "Python 3 (ipykernel)",
   "language": "python",
   "name": "python3"
  },
  "language_info": {
   "codemirror_mode": {
    "name": "ipython",
    "version": 3
   },
   "file_extension": ".py",
   "mimetype": "text/x-python",
   "name": "python",
   "nbconvert_exporter": "python",
   "pygments_lexer": "ipython3",
   "version": "3.10.8"
  }
 },
 "nbformat": 4,
 "nbformat_minor": 5
}
